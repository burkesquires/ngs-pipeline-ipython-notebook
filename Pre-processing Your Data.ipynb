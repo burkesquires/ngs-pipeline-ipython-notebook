{
 "metadata": {
  "name": "",
  "signature": "sha256:a99788be8dde7c80a65f936814f4d91fe522d463bd314590d1a1eb49c20ff20d"
 },
 "nbformat": 3,
 "nbformat_minor": 0,
 "worksheets": [
  {
   "cells": [
    {
     "cell_type": "heading",
     "level": 1,
     "metadata": {},
     "source": [
      "Pre-processing Your Data"
     ]
    },
    {
     "cell_type": "markdown",
     "metadata": {},
     "source": [
      "---"
     ]
    },
    {
     "cell_type": "markdown",
     "metadata": {},
     "source": [
      "Pre-processing data by platform:\n",
      "- Illumina    "
     ]
    },
    {
     "cell_type": "markdown",
     "metadata": {},
     "source": [
      "---"
     ]
    },
    {
     "cell_type": "heading",
     "level": 4,
     "metadata": {},
     "source": [
      "Input"
     ]
    },
    {
     "cell_type": "code",
     "collapsed": false,
     "input": [
      "forward = /Users/squiresrb/Documents/BCBB/Support/Gab\\ Parra-Gonzalez/Para6-10_S2_L001_R1_001.fastq \n",
      "reverse = /Users/squiresrb/Documents/BCBB/Support/Gab\\ Parra-Gonzalez/Para6-10_S2_L001_R2_001.fastq \n",
      "output_forward_paired = output_forward_paired.fq.gz \n",
      "output_forward_unpaired = output_forward_unpaired.fq.gz \n",
      "output_reverse_paired = output_reverse_paired.fq.gz \n",
      "output_reverse_unpaired = output_reverse_unpaired.fq.gz"
     ],
     "language": "python",
     "metadata": {},
     "outputs": []
    },
    {
     "cell_type": "heading",
     "level": 2,
     "metadata": {},
     "source": [
      "Platform: Illumina"
     ]
    },
    {
     "cell_type": "heading",
     "level": 2,
     "metadata": {},
     "source": [
      "Trimmomatic"
     ]
    },
    {
     "cell_type": "markdown",
     "metadata": {},
     "source": [
      "Trimmomatic performs a variety of useful trimming tasks for illumina paired-end and single ended data.The selection of trimming steps and their associated parameters are supplied on the command line.\n",
      "\n",
      "The current trimming steps are:\n",
      "\n",
      "ILLUMINACLIP: Cut adapter and other illumina-specific sequences from the read.\n",
      "SLIDINGWINDOW: Perform a sliding window trimming, cutting once the average quality within the window falls below a threshold.\n",
      "LEADING: Cut bases off the start of a read, if below a threshold quality\n",
      "TRAILING: Cut bases off the end of a read, if below a threshold quality\n",
      "CROP: Cut the read to a specified length\n",
      "HEADCROP: Cut the specified number of bases from the start of the read\n",
      "MINLEN: Drop the read if it is below a specified length\n",
      "TOPHRED33: Convert quality scores to Phred-33\n",
      "TOPHRED64: Convert quality scores to Phred-64\n",
      "It works with FASTQ (using phred + 33 or phred + 64 quality scores, depending on the Illumina pipeline used), either uncompressed or gzipp'ed FASTQ. Use of gzip format is determined based on the .gz extension.\n",
      "\n",
      "For single-ended data, one input and one output file are specified, plus the processing steps. For paired-end data, two input files are specified, and 4 output files, 2 for the 'paired' output where both reads survived the processing, and 2 for corresponding 'unpaired' output where a read survived, but the partner read did not.\n",
      "\n",
      "The command line statement below will perform the following:\n",
      "\n",
      "- Remove adapters\n",
      "- Remove leading low quality or N bases (below quality 3)\n",
      "- Remove trailing low quality or N bases (below quality 3)\n",
      "- Scan the read with a 4-base wide sliding window, cutting when the average quality per base drops below 15\n",
      "- Drop reads below the 36 bases long"
     ]
    },
    {
     "cell_type": "code",
     "collapsed": false,
     "input": [
      "!java -jar /Applications/bioinfo/Trimmomatic-0.32/trimmomatic-0.32.jar PE -phred33 forward reverse output_forward_paired output_forward_unpaired output_reverse_paired output_reverse_unpaired ILLUMINACLIP:TruSeq3-PE.fa:2:30:10 LEADING:3 TRAILING:3 SLIDINGWINDOW:4:15 MINLEN:36"
     ],
     "language": "python",
     "metadata": {},
     "outputs": [
      {
       "output_type": "stream",
       "stream": "stdout",
       "text": [
        "TrimmomaticPE: Started with arguments: -phred33 forward reverse output_forward_paired output_forward_unpaired output_reverse_paired output_reverse_unpaired ILLUMINACLIP:TruSeq3-PE.fa:2:30:10 LEADING:3 TRAILING:3 SLIDINGWINDOW:4:15 MINLEN:36\r\n",
        "Multiple cores found: Using 8 threads\r\n",
        "Oct 10, 2014 2:47:19 PM org.usadellab.trimmomatic.trim.IlluminaClippingTrimmer makeIlluminaClippingTrimmer\r\n",
        "SEVERE: null\r\n",
        "java.io.FileNotFoundException: /Users/squiresrb/iPython-Notebooks/NGS/TruSeq3-PE.fa (No such file or directory)\r\n",
        "\tat java.io.FileInputStream.open(Native Method)\r\n",
        "\tat java.io.FileInputStream.<init>(FileInputStream.java:120)\r\n",
        "\tat org.usadellab.trimmomatic.fasta.FastaParser.parse(FastaParser.java:54)\r\n",
        "\tat org.usadellab.trimmomatic.trim.IlluminaClippingTrimmer.loadSequences(IlluminaClippingTrimmer.java:107)\r\n",
        "\tat org.usadellab.trimmomatic.trim.IlluminaClippingTrimmer.makeIlluminaClippingTrimmer(IlluminaClippingTrimmer.java:70)\r\n",
        "\tat org.usadellab.trimmomatic.trim.TrimmerFactory.makeTrimmer(TrimmerFactory.java:27)\r\n",
        "\tat org.usadellab.trimmomatic.TrimmomaticPE.run(TrimmomaticPE.java:495)\r\n",
        "\tat org.usadellab.trimmomatic.Trimmomatic.main(Trimmomatic.java:35)\r\n",
        "Exception in thread \"main\" java.io.FileNotFoundException: forward (No such file or directory)\r\n",
        "\tat java.io.FileInputStream.open(Native Method)\r\n",
        "\tat java.io.FileInputStream.<init>(FileInputStream.java:120)\r\n",
        "\tat org.usadellab.trimmomatic.fastq.FastqParser.parse(FastqParser.java:127)\r\n",
        "\tat org.usadellab.trimmomatic.TrimmomaticPE.process(TrimmomaticPE.java:251)\r\n",
        "\tat org.usadellab.trimmomatic.TrimmomaticPE.run(TrimmomaticPE.java:498)\r\n",
        "\tat org.usadellab.trimmomatic.Trimmomatic.main(Trimmomatic.java:35)\r\n"
       ]
      }
     ],
     "prompt_number": 6
    },
    {
     "cell_type": "code",
     "collapsed": false,
     "input": [],
     "language": "python",
     "metadata": {},
     "outputs": []
    }
   ],
   "metadata": {}
  }
 ]
}