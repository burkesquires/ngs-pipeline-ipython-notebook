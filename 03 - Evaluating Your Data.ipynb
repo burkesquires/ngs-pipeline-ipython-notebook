{
 "metadata": {
  "name": "",
  "signature": "sha256:467cf9ad2386521b9f041d60e50d66a56d860ea120e60488311cbb9217730c79"
 },
 "nbformat": 3,
 "nbformat_minor": 0,
 "worksheets": [
  {
   "cells": [
    {
     "cell_type": "heading",
     "level": 1,
     "metadata": {},
     "source": [
      "Evaluating Your Data"
     ]
    },
    {
     "cell_type": "code",
     "collapsed": false,
     "input": [
      "FASTQC"
     ],
     "language": "python",
     "metadata": {},
     "outputs": []
    }
   ],
   "metadata": {}
  }
 ]
}