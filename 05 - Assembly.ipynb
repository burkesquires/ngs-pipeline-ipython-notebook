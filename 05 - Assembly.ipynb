{
 "metadata": {
  "name": "",
  "signature": "sha256:952a66fe060ac49ab390b4789594cb0f15d46db78a27bb87a132c012f984d53e"
 },
 "nbformat": 3,
 "nbformat_minor": 0,
 "worksheets": [
  {
   "cells": [
    {
     "cell_type": "heading",
     "level": 1,
     "metadata": {},
     "source": [
      "Assembly"
     ]
    },
    {
     "cell_type": "markdown",
     "metadata": {},
     "source": [
      "---"
     ]
    },
    {
     "cell_type": "markdown",
     "metadata": {},
     "source": [
      "Assembly\n",
      "- Denovo assembly (without a reference sequecne)\n",
      "- Assembly (with a reference sequence)"
     ]
    },
    {
     "cell_type": "markdown",
     "metadata": {},
     "source": [
      "---"
     ]
    },
    {
     "cell_type": "markdown",
     "metadata": {},
     "source": [
      "Files:"
     ]
    },
    {
     "cell_type": "code",
     "collapsed": false,
     "input": [
      "forward = \"output_forward_paired.fq.gz\"\n",
      "reverse = \"output_reverse_paired.fq.gz\""
     ],
     "language": "python",
     "metadata": {},
     "outputs": [],
     "prompt_number": 2
    },
    {
     "cell_type": "heading",
     "level": 2,
     "metadata": {},
     "source": [
      "De novo Assembly"
     ]
    },
    {
     "cell_type": "code",
     "collapsed": false,
     "input": [],
     "language": "python",
     "metadata": {},
     "outputs": [
      {
       "output_type": "stream",
       "stream": "stdout",
       "text": [
        "Object `%writefile` not found.\n"
       ]
      }
     ],
     "prompt_number": 4
    },
    {
     "cell_type": "heading",
     "level": 3,
     "metadata": {},
     "source": [
      "Create config file"
     ]
    },
    {
     "cell_type": "code",
     "collapsed": false,
     "input": [
      "config_file = \"soapdenovo.config\""
     ],
     "language": "python",
     "metadata": {},
     "outputs": [],
     "prompt_number": 7
    },
    {
     "cell_type": "code",
     "collapsed": false,
     "input": [
      "%%writefile soapdenovo.config\n",
      "#maximal read length\n",
      "max_rd_len=100\n",
      "[LIB]\n",
      "\n",
      "#average insert size\n",
      "avg_ins=200\n",
      "\n",
      "#if sequence needs to be reversed\n",
      "reverse_seq=1\n",
      "\n",
      "#in which part(s) the reads are used\n",
      "asm_flags=3\n",
      "\n",
      "#in which order the reads are used while scaffolding\n",
      "rank=1\n",
      "\n",
      "# cutoff of pair number for a reliable connection\n",
      "pair_num_cutoff=2\n",
      "\n",
      "#fastq file for read 1\n",
      "q1=forward\n",
      "\n",
      "#fastq file for read 2 always follows fastq file for read 1\n",
      "q2=reverse\n"
     ],
     "language": "python",
     "metadata": {},
     "outputs": [
      {
       "output_type": "stream",
       "stream": "stdout",
       "text": [
        "Overwriting soapdenovo.config\n"
       ]
      }
     ],
     "prompt_number": 9
    },
    {
     "cell_type": "markdown",
     "metadata": {},
     "source": [
      "SOAPdenovo"
     ]
    },
    {
     "cell_type": "code",
     "collapsed": false,
     "input": [
      "!/Applications/bioinfo/SOAPdenovo/SOAPdenovo-63mer all -s config_file -K 63 -R -o graph_prefix 1>ass.log 2>ass.err "
     ],
     "language": "python",
     "metadata": {},
     "outputs": [],
     "prompt_number": 10
    },
    {
     "cell_type": "code",
     "collapsed": false,
     "input": [],
     "language": "python",
     "metadata": {},
     "outputs": []
    }
   ],
   "metadata": {}
  }
 ]
}