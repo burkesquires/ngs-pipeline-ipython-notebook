{
 "metadata": {
  "name": "",
  "signature": "sha256:98af5905fa7dad365bbf800cd244bebee4df300b5832a6ff95db1829b8347fa4"
 },
 "nbformat": 3,
 "nbformat_minor": 0,
 "worksheets": [
  {
   "cells": [
    {
     "cell_type": "heading",
     "level": 1,
     "metadata": {},
     "source": [
      "Sequencers and sequencing technology"
     ]
    },
    {
     "cell_type": "heading",
     "level": 2,
     "metadata": {},
     "source": [
      "What sequencer did you use and what protocols?"
     ]
    },
    {
     "cell_type": "markdown",
     "metadata": {},
     "source": [
      "What sequencer did you use?\n",
      "\n",
      "- Illumnia\n",
      "    - MiSeq\n",
      "- IonTorrent"
     ]
    },
    {
     "cell_type": "code",
     "collapsed": false,
     "input": [],
     "language": "python",
     "metadata": {},
     "outputs": []
    }
   ],
   "metadata": {}
  }
 ]
}