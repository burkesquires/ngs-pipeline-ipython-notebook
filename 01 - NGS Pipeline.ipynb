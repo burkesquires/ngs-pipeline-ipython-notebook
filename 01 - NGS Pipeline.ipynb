{
 "metadata": {
  "name": "",
  "signature": "sha256:de7a9fc327c57efbc2cb9dc54538a78ecb34d049fdc32f4265cc49d4dc85ce9f"
 },
 "nbformat": 3,
 "nbformat_minor": 0,
 "worksheets": [
  {
   "cells": [
    {
     "cell_type": "heading",
     "level": 1,
     "metadata": {},
     "source": [
      "Next Generation Sequencing Pipeline"
     ]
    },
    {
     "cell_type": "markdown",
     "metadata": {},
     "source": [
      "This is a series of steps in a generic NGS pipeline to learn how to do NGS analysis."
     ]
    },
    {
     "cell_type": "markdown",
     "metadata": {},
     "source": [
      "Author: R. Burke Squires"
     ]
    },
    {
     "cell_type": "markdown",
     "metadata": {},
     "source": [
      "---"
     ]
    },
    {
     "cell_type": "markdown",
     "metadata": {},
     "source": [
      "Outline\n",
      "- Sequencers and sequencing technology\n",
      "- [Evaluating sequencing data](03 - Evaluating Your Data.ipynb)\n",
      "- [Pre-processing your data](Pre-processing Your Data.ipynb)\n",
      "- Assembly\n",
      "    - Denovo assembly (without a reference sequecne)\n",
      "    - Assembly (with a reference sequence)\n"
     ]
    },
    {
     "cell_type": "heading",
     "level": 2,
     "metadata": {},
     "source": []
    },
    {
     "cell_type": "markdown",
     "metadata": {},
     "source": []
    },
    {
     "cell_type": "heading",
     "level": 2,
     "metadata": {},
     "source": [
      "Investigate your sequencing data"
     ]
    },
    {
     "cell_type": "markdown",
     "metadata": {},
     "source": [
      "First, where is your sequencing data?"
     ]
    },
    {
     "cell_type": "code",
     "collapsed": false,
     "input": [
      "seq_file = \"\""
     ],
     "language": "python",
     "metadata": {},
     "outputs": []
    },
    {
     "cell_type": "markdown",
     "metadata": {},
     "source": [
      "First, lets run FASTQC to examine the sequence quality of your data"
     ]
    },
    {
     "cell_type": "code",
     "collapsed": false,
     "input": [
      "!fastqc seq_file"
     ],
     "language": "python",
     "metadata": {},
     "outputs": [
      {
       "output_type": "stream",
       "stream": "stdout",
       "text": [
        "/bin/sh: fastqc: command not found\r\n"
       ]
      }
     ],
     "prompt_number": 2
    },
    {
     "cell_type": "heading",
     "level": 2,
     "metadata": {},
     "source": [
      "Pre-processing data"
     ]
    },
    {
     "cell_type": "heading",
     "level": 3,
     "metadata": {},
     "source": [
      "Trimmomatic"
     ]
    },
    {
     "cell_type": "markdown",
     "metadata": {},
     "source": []
    },
    {
     "cell_type": "code",
     "collapsed": false,
     "input": [],
     "language": "python",
     "metadata": {},
     "outputs": [
      {
       "output_type": "stream",
       "stream": "stdout",
       "text": [
        "TrimmomaticPE: Started with arguments: -phred33 Para6-10_S2_L001_R1_001.fastq Para6-10_S2_L001_R2_001.fastq output_forward_paired.fq.gz output_forward_unpaired.fq.gz output_reverse_paired.fq.gz output_reverse_unpaired.fq.gz ILLUMINACLIP:TruSeq3-PE.fa:2:30:10 LEADING:3 TRAILING:3 SLIDINGWINDOW:4:15 MINLEN:36\r\n",
        "Multiple cores found: Using 8 threads\r\n"
       ]
      },
      {
       "output_type": "stream",
       "stream": "stdout",
       "text": [
        "Oct 10, 2014 2:06:15 PM org.usadellab.trimmomatic.trim.IlluminaClippingTrimmer makeIlluminaClippingTrimmer\r\n",
        "SEVERE: null\r\n",
        "java.io.FileNotFoundException: /Users/squiresrb/iPython-Notebooks/NGS/TruSeq3-PE.fa (No such file or directory)\r\n",
        "\tat java.io.FileInputStream.open(Native Method)\r\n",
        "\tat java.io.FileInputStream.<init>(FileInputStream.java:120)\r\n",
        "\tat org.usadellab.trimmomatic.fasta.FastaParser.parse(FastaParser.java:54)\r\n",
        "\tat org.usadellab.trimmomatic.trim.IlluminaClippingTrimmer.loadSequences(IlluminaClippingTrimmer.java:107)\r\n",
        "\tat org.usadellab.trimmomatic.trim.IlluminaClippingTrimmer.makeIlluminaClippingTrimmer(IlluminaClippingTrimmer.java:70)\r\n",
        "\tat org.usadellab.trimmomatic.trim.TrimmerFactory.makeTrimmer(TrimmerFactory.java:27)\r\n",
        "\tat org.usadellab.trimmomatic.TrimmomaticPE.run(TrimmomaticPE.java:495)\r\n",
        "\tat org.usadellab.trimmomatic.Trimmomatic.main(Trimmomatic.java:35)\r\n",
        "Exception in thread \"main\" java.io.FileNotFoundException: Para6-10_S2_L001_R1_001.fastq (No such file or directory)\r\n",
        "\tat java.io.FileInputStream.open(Native Method)\r\n",
        "\tat java.io.FileInputStream.<init>(FileInputStream.java:120)\r\n",
        "\tat org.usadellab.trimmomatic.fastq.FastqParser.parse(FastqParser.java:127)\r\n",
        "\tat org.usadellab.trimmomatic.TrimmomaticPE.process(TrimmomaticPE.java:251)\r\n",
        "\tat org.usadellab.trimmomatic.TrimmomaticPE.run(TrimmomaticPE.java:498)\r\n",
        "\tat org.usadellab.trimmomatic.Trimmomatic.main(Trimmomatic.java:35)\r\n"
       ]
      }
     ],
     "prompt_number": 1
    },
    {
     "cell_type": "code",
     "collapsed": false,
     "input": [],
     "language": "python",
     "metadata": {},
     "outputs": []
    }
   ],
   "metadata": {}
  }
 ]
}